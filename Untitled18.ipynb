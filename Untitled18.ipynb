{
  "nbformat": 4,
  "nbformat_minor": 0,
  "metadata": {
    "colab": {
      "provenance": [],
      "authorship_tag": "ABX9TyNZyatLK01dcNrE5BDnbV2L",
      "include_colab_link": true
    },
    "kernelspec": {
      "name": "python3",
      "display_name": "Python 3"
    },
    "language_info": {
      "name": "python"
    }
  },
  "cells": [
    {
      "cell_type": "markdown",
      "metadata": {
        "id": "view-in-github",
        "colab_type": "text"
      },
      "source": [
        "<a href=\"https://colab.research.google.com/github/DataWhizAnushka/projects/blob/main/Untitled18.ipynb\" target=\"_parent\"><img src=\"https://colab.research.google.com/assets/colab-badge.svg\" alt=\"Open In Colab\"/></a>"
      ]
    },
    {
      "cell_type": "markdown",
      "source": [
        "### **Recipe Recommendation System Report**"
      ],
      "metadata": {
        "id": "sa2mhOvtYiGx"
      }
    },
    {
      "cell_type": "markdown",
      "source": [
        "Problem Statement and Approach:\n",
        "\n",
        "The objective of this project is to design and build a recipe recommendation system that generates or suggests food recipes based on a set of input ingredients, dietary preferences, and cuisine styles. This solution employs both a recommendation model and a simple generative model to achieve the following:\n",
        "\n",
        "Recommendation Model: Suggests recipes using a content-based filtering approach, leveraging cosine similarity between ingredient vectors.\n",
        "\n",
        "Generative Model: Creates new recipes based on a given base ingredient using a predefined rule-based method."
      ],
      "metadata": {
        "id": "gg4kCEe0Ynav"
      }
    },
    {
      "cell_type": "code",
      "source": [
        "import pandas as pd                          ## Importing tools and libraries\n",
        "import numpy as np\n",
        "from sklearn.feature_extraction.text import CountVectorizer\n",
        "from sklearn.metrics.pairwise import cosine_similarity\n",
        "from sklearn.model_selection import train_test_split\n",
        "import json\n"
      ],
      "metadata": {
        "id": "90d8i5VYzMx3"
      },
      "execution_count": 9,
      "outputs": []
    },
    {
      "cell_type": "code",
      "source": [
        "# Loading Dataset\n",
        "data = {\n",
        "    \"RecipeID\": [1, 2, 3, 4],\n",
        "    \"Title\": [\"Spaghetti Bolognese\", \"Vegetarian Pizza\", \"Chicken Curry\", \"Vegan Salad\"],\n",
        "    \"Ingredients\": [\n",
        "        \"spaghetti, beef, tomato, onion, garlic\",\n",
        "        \"flour, tomato, cheese, olive, basil\",\n",
        "        \"chicken, curry powder, coconut milk, garlic, onion\",\n",
        "        \"lettuce, avocado, tomato, cucumber, olive oil\"\n",
        "    ],\n",
        "    \"Cuisine\": [\"Italian\", \"Italian\", \"Indian\", \"International\"],\n",
        "    \"Dietary\": [\"Non-Vegetarian\", \"Vegetarian\", \"Non-Vegetarian\", \"Vegan\"]\n",
        "}\n",
        "\n",
        "recipes = pd.DataFrame(data)\n"
      ],
      "metadata": {
        "id": "l8wesRSgWrGX"
      },
      "execution_count": 2,
      "outputs": []
    },
    {
      "cell_type": "markdown",
      "source": [
        "Model Performance and Insights"
      ],
      "metadata": {
        "id": "xXTBK4DqZIG1"
      }
    },
    {
      "cell_type": "code",
      "source": [
        "# Preprocess Ingredients\n",
        "vectorizer = CountVectorizer(tokenizer=lambda x: x.split(', '))\n",
        "ingredient_vectors = vectorizer.fit_transform(recipes['Ingredients'])"
      ],
      "metadata": {
        "colab": {
          "base_uri": "https://localhost:8080/"
        },
        "id": "HkaXQLCjWy9O",
        "outputId": "05ffdcf0-6e7f-40f0-f511-ec6e4146b89c"
      },
      "execution_count": 3,
      "outputs": [
        {
          "output_type": "stream",
          "name": "stderr",
          "text": [
            "/usr/local/lib/python3.10/dist-packages/sklearn/feature_extraction/text.py:517: UserWarning: The parameter 'token_pattern' will not be used since 'tokenizer' is not None'\n",
            "  warnings.warn(\n"
          ]
        }
      ]
    },
    {
      "cell_type": "code",
      "source": [
        "# Recommendation Function\n",
        "def recommend_recipes(input_ingredients, top_n=3):\n",
        "    input_vector = vectorizer.transform([input_ingredients])\n",
        "    similarities = cosine_similarity(input_vector, ingredient_vectors).flatten()\n",
        "    recommended_indices = similarities.argsort()[-top_n:][::-1]\n",
        "    return recipes.iloc[recommended_indices]\n"
      ],
      "metadata": {
        "id": "Bj3Z7HiOW2lD"
      },
      "execution_count": 4,
      "outputs": []
    },
    {
      "cell_type": "code",
      "source": [
        "# Testing Recommendation System\n",
        "sample_input = \"tomato, onion, garlic\"\n",
        "recommendations = recommend_recipes(sample_input)\n",
        "\n",
        "print(\"Input Ingredients:\", sample_input)\n",
        "print(\"Recommended Recipes:\")\n",
        "print(recommendations[['Title', 'Ingredients', 'Cuisine', 'Dietary']])\n"
      ],
      "metadata": {
        "colab": {
          "base_uri": "https://localhost:8080/"
        },
        "id": "-J_qdpPyW7AK",
        "outputId": "448c493c-9c8b-4452-99ab-98e8c4fdd38d"
      },
      "execution_count": 5,
      "outputs": [
        {
          "output_type": "stream",
          "name": "stdout",
          "text": [
            "Input Ingredients: tomato, onion, garlic\n",
            "Recommended Recipes:\n",
            "                 Title                                        Ingredients  \\\n",
            "0  Spaghetti Bolognese             spaghetti, beef, tomato, onion, garlic   \n",
            "2        Chicken Curry  chicken, curry powder, coconut milk, garlic, o...   \n",
            "3          Vegan Salad      lettuce, avocado, tomato, cucumber, olive oil   \n",
            "\n",
            "         Cuisine         Dietary  \n",
            "0        Italian  Non-Vegetarian  \n",
            "2         Indian  Non-Vegetarian  \n",
            "3  International           Vegan  \n"
          ]
        }
      ]
    },
    {
      "cell_type": "code",
      "source": [
        "# Generative Model Placeholder\n",
        "def generate_recipe(base_ingredient):\n",
        "    recipe_steps = [\n",
        "        f\"Start with {base_ingredient}.\",\n",
        "        \"Add complementary ingredients (e.g., garlic, onion).\",\n",
        "        \"Cook until well blended.\",\n",
        "        \"Serve hot and enjoy!\"\n",
        "    ]\n",
        "    return \" \".join(recipe_steps)"
      ],
      "metadata": {
        "id": "7Dw9KmB1XDHC"
      },
      "execution_count": 6,
      "outputs": []
    },
    {
      "cell_type": "code",
      "source": [
        "# Generating a Sample Recipe\n",
        "print(\"\\nGenerated Recipe:\")\n",
        "print(generate_recipe(\"chicken\"))"
      ],
      "metadata": {
        "colab": {
          "base_uri": "https://localhost:8080/"
        },
        "id": "2qZH3xfJXJ06",
        "outputId": "968e5fcb-0668-47c2-d205-fe4293403643"
      },
      "execution_count": 7,
      "outputs": [
        {
          "output_type": "stream",
          "name": "stdout",
          "text": [
            "\n",
            "Generated Recipe:\n",
            "Start with chicken. Add complementary ingredients (e.g., garlic, onion). Cook until well blended. Serve hot and enjoy!\n"
          ]
        }
      ]
    },
    {
      "cell_type": "code",
      "source": [
        "# Save Results to JSON\n",
        "recommendations_output = recommendations.to_dict(orient='records')\n",
        "with open('recommendations.json', 'w') as file:\n",
        "    json.dump(recommendations_output, file, indent=4)\n",
        "\n",
        "print(\"\\nResults saved to 'recommendations.json'.\")\n"
      ],
      "metadata": {
        "colab": {
          "base_uri": "https://localhost:8080/"
        },
        "id": "eOzUrmwkXOpv",
        "outputId": "95175f74-5ce1-4e00-9fd3-924a8252b64a"
      },
      "execution_count": 8,
      "outputs": [
        {
          "output_type": "stream",
          "name": "stdout",
          "text": [
            "\n",
            "Results saved to 'recommendations.json'.\n"
          ]
        }
      ]
    }
  ]
}